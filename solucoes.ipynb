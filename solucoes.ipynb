{
  "nbformat": 4,
  "nbformat_minor": 0,
  "metadata": {
    "colab": {
      "name": "solucoes.ipynb",
      "provenance": [],
      "collapsed_sections": []
    },
    "kernelspec": {
      "name": "python3",
      "display_name": "Python 3"
    },
    "language_info": {
      "name": "python"
    }
  },
  "cells": [
    {
      "cell_type": "code",
      "source": [
        "import pandas as pd\n",
        "acc = pd.read_csv('202110_CPGF.csv',sep = ';',encoding='ISO-8859-1', decimal = \",\")\n",
        "acc.head(1)"
      ],
      "metadata": {
        "colab": {
          "base_uri": "https://localhost:8080/",
          "height": 266
        },
        "id": "5A9-mvxjA5XN",
        "outputId": "6355600d-deeb-4c95-ed92-39913bca3196"
      },
      "execution_count": 105,
      "outputs": [
        {
          "output_type": "execute_result",
          "data": {
            "text/html": [
              "\n",
              "  <div id=\"df-b7adf0f7-b021-4767-a564-01d06b15c83b\">\n",
              "    <div class=\"colab-df-container\">\n",
              "      <div>\n",
              "<style scoped>\n",
              "    .dataframe tbody tr th:only-of-type {\n",
              "        vertical-align: middle;\n",
              "    }\n",
              "\n",
              "    .dataframe tbody tr th {\n",
              "        vertical-align: top;\n",
              "    }\n",
              "\n",
              "    .dataframe thead th {\n",
              "        text-align: right;\n",
              "    }\n",
              "</style>\n",
              "<table border=\"1\" class=\"dataframe\">\n",
              "  <thead>\n",
              "    <tr style=\"text-align: right;\">\n",
              "      <th></th>\n",
              "      <th>CÓDIGO ÓRGÃO SUPERIOR</th>\n",
              "      <th>NOME ÓRGÃO SUPERIOR</th>\n",
              "      <th>CÓDIGO ÓRGÃO</th>\n",
              "      <th>NOME ÓRGÃO</th>\n",
              "      <th>CÓDIGO UNIDADE GESTORA</th>\n",
              "      <th>NOME UNIDADE GESTORA</th>\n",
              "      <th>ANO EXTRATO</th>\n",
              "      <th>MÊS EXTRATO</th>\n",
              "      <th>CPF PORTADOR</th>\n",
              "      <th>NOME PORTADOR</th>\n",
              "      <th>CNPJ OU CPF FAVORECIDO</th>\n",
              "      <th>NOME FAVORECIDO</th>\n",
              "      <th>TRANSAÇÃO</th>\n",
              "      <th>DATA TRANSAÇÃO</th>\n",
              "      <th>VALOR TRANSAÇÃO</th>\n",
              "    </tr>\n",
              "  </thead>\n",
              "  <tbody>\n",
              "    <tr>\n",
              "      <th>0</th>\n",
              "      <td>63000</td>\n",
              "      <td>Advocacia-Geral da União</td>\n",
              "      <td>63000</td>\n",
              "      <td>Advocacia-Geral da União - Unidades com víncul...</td>\n",
              "      <td>110096</td>\n",
              "      <td>SUPERINTENDENCIA ADMINISTRACAO EM PERNAMBUCO</td>\n",
              "      <td>2021</td>\n",
              "      <td>10</td>\n",
              "      <td>***.456.993-**</td>\n",
              "      <td>TATIANA RODRIGUES BRITO XIMENES</td>\n",
              "      <td>-2</td>\n",
              "      <td>NAO SE APLICA</td>\n",
              "      <td>SAQUE CASH/ATM BB</td>\n",
              "      <td>10/09/2021</td>\n",
              "      <td>670.0</td>\n",
              "    </tr>\n",
              "  </tbody>\n",
              "</table>\n",
              "</div>\n",
              "      <button class=\"colab-df-convert\" onclick=\"convertToInteractive('df-b7adf0f7-b021-4767-a564-01d06b15c83b')\"\n",
              "              title=\"Convert this dataframe to an interactive table.\"\n",
              "              style=\"display:none;\">\n",
              "        \n",
              "  <svg xmlns=\"http://www.w3.org/2000/svg\" height=\"24px\"viewBox=\"0 0 24 24\"\n",
              "       width=\"24px\">\n",
              "    <path d=\"M0 0h24v24H0V0z\" fill=\"none\"/>\n",
              "    <path d=\"M18.56 5.44l.94 2.06.94-2.06 2.06-.94-2.06-.94-.94-2.06-.94 2.06-2.06.94zm-11 1L8.5 8.5l.94-2.06 2.06-.94-2.06-.94L8.5 2.5l-.94 2.06-2.06.94zm10 10l.94 2.06.94-2.06 2.06-.94-2.06-.94-.94-2.06-.94 2.06-2.06.94z\"/><path d=\"M17.41 7.96l-1.37-1.37c-.4-.4-.92-.59-1.43-.59-.52 0-1.04.2-1.43.59L10.3 9.45l-7.72 7.72c-.78.78-.78 2.05 0 2.83L4 21.41c.39.39.9.59 1.41.59.51 0 1.02-.2 1.41-.59l7.78-7.78 2.81-2.81c.8-.78.8-2.07 0-2.86zM5.41 20L4 18.59l7.72-7.72 1.47 1.35L5.41 20z\"/>\n",
              "  </svg>\n",
              "      </button>\n",
              "      \n",
              "  <style>\n",
              "    .colab-df-container {\n",
              "      display:flex;\n",
              "      flex-wrap:wrap;\n",
              "      gap: 12px;\n",
              "    }\n",
              "\n",
              "    .colab-df-convert {\n",
              "      background-color: #E8F0FE;\n",
              "      border: none;\n",
              "      border-radius: 50%;\n",
              "      cursor: pointer;\n",
              "      display: none;\n",
              "      fill: #1967D2;\n",
              "      height: 32px;\n",
              "      padding: 0 0 0 0;\n",
              "      width: 32px;\n",
              "    }\n",
              "\n",
              "    .colab-df-convert:hover {\n",
              "      background-color: #E2EBFA;\n",
              "      box-shadow: 0px 1px 2px rgba(60, 64, 67, 0.3), 0px 1px 3px 1px rgba(60, 64, 67, 0.15);\n",
              "      fill: #174EA6;\n",
              "    }\n",
              "\n",
              "    [theme=dark] .colab-df-convert {\n",
              "      background-color: #3B4455;\n",
              "      fill: #D2E3FC;\n",
              "    }\n",
              "\n",
              "    [theme=dark] .colab-df-convert:hover {\n",
              "      background-color: #434B5C;\n",
              "      box-shadow: 0px 1px 3px 1px rgba(0, 0, 0, 0.15);\n",
              "      filter: drop-shadow(0px 1px 2px rgba(0, 0, 0, 0.3));\n",
              "      fill: #FFFFFF;\n",
              "    }\n",
              "  </style>\n",
              "\n",
              "      <script>\n",
              "        const buttonEl =\n",
              "          document.querySelector('#df-b7adf0f7-b021-4767-a564-01d06b15c83b button.colab-df-convert');\n",
              "        buttonEl.style.display =\n",
              "          google.colab.kernel.accessAllowed ? 'block' : 'none';\n",
              "\n",
              "        async function convertToInteractive(key) {\n",
              "          const element = document.querySelector('#df-b7adf0f7-b021-4767-a564-01d06b15c83b');\n",
              "          const dataTable =\n",
              "            await google.colab.kernel.invokeFunction('convertToInteractive',\n",
              "                                                     [key], {});\n",
              "          if (!dataTable) return;\n",
              "\n",
              "          const docLinkHtml = 'Like what you see? Visit the ' +\n",
              "            '<a target=\"_blank\" href=https://colab.research.google.com/notebooks/data_table.ipynb>data table notebook</a>'\n",
              "            + ' to learn more about interactive tables.';\n",
              "          element.innerHTML = '';\n",
              "          dataTable['output_type'] = 'display_data';\n",
              "          await google.colab.output.renderOutput(dataTable, element);\n",
              "          const docLink = document.createElement('div');\n",
              "          docLink.innerHTML = docLinkHtml;\n",
              "          element.appendChild(docLink);\n",
              "        }\n",
              "      </script>\n",
              "    </div>\n",
              "  </div>\n",
              "  "
            ],
            "text/plain": [
              "   CÓDIGO ÓRGÃO SUPERIOR  ... VALOR TRANSAÇÃO\n",
              "0                  63000  ...           670.0\n",
              "\n",
              "[1 rows x 15 columns]"
            ]
          },
          "metadata": {},
          "execution_count": 105
        }
      ]
    },
    {
      "cell_type": "markdown",
      "source": [
        "##Item K"
      ],
      "metadata": {
        "id": "XXO3_0yeAT0d"
      }
    },
    {
      "cell_type": "code",
      "execution_count": 106,
      "metadata": {
        "colab": {
          "base_uri": "https://localhost:8080/"
        },
        "id": "HJFINNaviHC6",
        "outputId": "a001413b-08dc-4cf5-8f51-ff04d48b2ebf"
      },
      "outputs": [
        {
          "output_type": "execute_result",
          "data": {
            "text/plain": [
              "5619007.95"
            ]
          },
          "metadata": {},
          "execution_count": 106
        }
      ],
      "source": [
        "\n",
        "acc['VALOR TRANSAÇÃO'].sum()"
      ]
    },
    {
      "cell_type": "markdown",
      "source": [
        "A soma total das transações é de R$5.619.007,95."
      ],
      "metadata": {
        "id": "BSizDy5DXlL3"
      }
    },
    {
      "cell_type": "markdown",
      "source": [
        "##Item L"
      ],
      "metadata": {
        "id": "uaN5m3_fA0dN"
      }
    },
    {
      "cell_type": "code",
      "source": [
        "acc[acc['NOME PORTADOR'] == 'Sigiloso']['VALOR TRANSAÇÃO'].sum()"
      ],
      "metadata": {
        "colab": {
          "base_uri": "https://localhost:8080/"
        },
        "id": "-YlsjnfgA3tk",
        "outputId": "f8ab50d8-5dbb-4828-c4c6-fce1090e6d90"
      },
      "execution_count": 107,
      "outputs": [
        {
          "output_type": "execute_result",
          "data": {
            "text/plain": [
              "3108731.15"
            ]
          },
          "metadata": {},
          "execution_count": 107
        }
      ]
    },
    {
      "cell_type": "markdown",
      "source": [
        "A soma das transações de cunho sigiloso é de R$3.108.731,15"
      ],
      "metadata": {
        "id": "TdkARWITXxxw"
      }
    },
    {
      "cell_type": "markdown",
      "source": [
        "##Item M"
      ],
      "metadata": {
        "id": "3NvpSo4vESSU"
      }
    },
    {
      "cell_type": "code",
      "source": [
        "acc[acc['NOME PORTADOR'] == 'Sigiloso'].groupby('NOME ÓRGÃO').sum()['VALOR TRANSAÇÃO'].sort_values(ascending = False)"
      ],
      "metadata": {
        "colab": {
          "base_uri": "https://localhost:8080/"
        },
        "id": "sy4VRz6yEUmL",
        "outputId": "8387b5e7-95af-4734-cb1b-3193cad6ab42"
      },
      "execution_count": 108,
      "outputs": [
        {
          "output_type": "execute_result",
          "data": {
            "text/plain": [
              "NOME ÓRGÃO\n",
              "Presidência da República                                1699751.04\n",
              "Departamento de Polícia Federal                         1207131.92\n",
              "Gabinete da Vice-Presidência da República                140238.19\n",
              "Ministério da Economia - Unidades com vínculo direto      24000.00\n",
              "Departamento de Polícia Rodoviária Federal                19500.00\n",
              "Fundo Constitucional do Distrito Federal                  18110.00\n",
              "Name: VALOR TRANSAÇÃO, dtype: float64"
            ]
          },
          "metadata": {},
          "execution_count": 108
        }
      ]
    },
    {
      "cell_type": "markdown",
      "source": [
        "O órgão que mais realizou movimentações sigilosas foi a Presidência da República, com o total de R$1.699.751,04."
      ],
      "metadata": {
        "id": "Na0TNQ_3YA6v"
      }
    },
    {
      "cell_type": "markdown",
      "source": [
        "##Item N"
      ],
      "metadata": {
        "id": "3siggIStIDAz"
      }
    },
    {
      "cell_type": "markdown",
      "source": [
        "Lista dos portadores que mais realizaram saques, em ordem decrescente:"
      ],
      "metadata": {
        "id": "mJkXpAYMNE7L"
      }
    },
    {
      "cell_type": "code",
      "source": [
        "acc[acc['TRANSAÇÃO'] == 'SAQUE CASH/ATM BB'].groupby('NOME PORTADOR').count()['CPF PORTADOR'].sort_values(ascending = False)"
      ],
      "metadata": {
        "colab": {
          "base_uri": "https://localhost:8080/"
        },
        "id": "Oxh5az4HIEfs",
        "outputId": "bc07925f-27ea-430e-8379-56cd565eced5"
      },
      "execution_count": 109,
      "outputs": [
        {
          "output_type": "execute_result",
          "data": {
            "text/plain": [
              "NOME PORTADOR\n",
              "RAFAEL FERREIRA COSTA                    25\n",
              "RONISONCICLEY CONDE DA ROCHA             12\n",
              "ARTEMIO DE BRITO MACHADO                  9\n",
              "FRANCISCO CHAGAS DOS SANTOS FILHO         8\n",
              "MARIAN HELEN DA SILVA GOMES RODRIGUES     8\n",
              "                                         ..\n",
              "HIRAN HERNANE HURPIA                      1\n",
              "RAFAEL MARCONI DOS SANTOS                 1\n",
              "HILDEBRANDO FERREIRA FILHO                1\n",
              "ADMAR HELINTON DORNFELD                   1\n",
              "SEM INFORMACAO                            0\n",
              "Name: CPF PORTADOR, Length: 351, dtype: int64"
            ]
          },
          "metadata": {},
          "execution_count": 109
        }
      ]
    },
    {
      "cell_type": "markdown",
      "source": [
        "Portanto, o portador que mais realizou saques foi Rafael Ferreira Costa, com 25 saques no mês de outubro de 2021.\n",
        "\n",
        "O órgão ao qual esse portador pertence é encontrado abaixo:"
      ],
      "metadata": {
        "id": "1xMvXcpZNXLC"
      }
    },
    {
      "cell_type": "code",
      "source": [
        "acc[acc['NOME PORTADOR'] == 'RAFAEL FERREIRA COSTA']['NOME ÓRGÃO'].iloc[0]"
      ],
      "metadata": {
        "colab": {
          "base_uri": "https://localhost:8080/",
          "height": 35
        },
        "id": "3JwlubT8OCQ7",
        "outputId": "4a6b564b-c41e-4705-f57e-0c444f87bdaf"
      },
      "execution_count": 110,
      "outputs": [
        {
          "output_type": "execute_result",
          "data": {
            "application/vnd.google.colaboratory.intrinsic+json": {
              "type": "string"
            },
            "text/plain": [
              "'Instituto Chico Mendes de Conservação da Biodiversidade'"
            ]
          },
          "metadata": {},
          "execution_count": 110
        }
      ]
    },
    {
      "cell_type": "markdown",
      "source": [
        "O órgão ao qual o portador Rafael Ferreira Costa pertence é o Instituto Chico Mendes de Conservação da Biodiversidade."
      ],
      "metadata": {
        "id": "hQ8aPlQxYX3I"
      }
    },
    {
      "cell_type": "markdown",
      "source": [
        "##Item O"
      ],
      "metadata": {
        "id": "9N-d1dkrP5oR"
      }
    },
    {
      "cell_type": "code",
      "source": [
        "acc[acc['TRANSAÇÃO'] == 'COMPRA A/V - R$ - APRES'].groupby('NOME FAVORECIDO').count()['CPF PORTADOR'].sort_values(ascending = False)"
      ],
      "metadata": {
        "colab": {
          "base_uri": "https://localhost:8080/"
        },
        "id": "4GDJCcBKQB76",
        "outputId": "d82018dd-af41-442d-a025-63f2de875cf8"
      },
      "execution_count": 111,
      "outputs": [
        {
          "output_type": "execute_result",
          "data": {
            "text/plain": [
              "NOME FAVORECIDO\n",
              "MERCADOPAGO.COM REPRESENTACOES LTDA.                 121\n",
              "SEM INFORMACAO                                        97\n",
              "A.M. COM. DE DERIVADOS DE PETROLEO LTDA               32\n",
              "PAGAR.ME PAGAMENTOS S.A.                              29\n",
              "KALUNGA COMERCIO E INDUSTRIA GRAFICA LTDA             29\n",
              "                                                    ... \n",
              "CASA DO CONSTRUTOR E MATERIAIS DE CONSTRUCAO LTDA      0\n",
              "HOT DIGITAL COMERCIO E SERVICO DE IMPRESSAO LTDA       0\n",
              "VANDERSON VERVLOET BESSA COMERCIO DE GAS               0\n",
              "ADILSON DE OLIVEIRA MEDEIROS                           0\n",
              "POSTO 7 ARARAS LTDA                                    0\n",
              "Name: CPF PORTADOR, Length: 3523, dtype: int64"
            ]
          },
          "metadata": {},
          "execution_count": 111
        }
      ]
    },
    {
      "cell_type": "markdown",
      "source": [
        "O favorecido que mais recebeu compras utilizando o CGPF foi o Mercadopago.com Representações Ltda, com 121 compras no total."
      ],
      "metadata": {
        "id": "5sq80FcBSK_y"
      }
    }
  ]
}